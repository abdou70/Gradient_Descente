{
 "cells": [
  {
   "cell_type": "code",
   "execution_count": 140,
   "id": "fdfc48fb",
   "metadata": {},
   "outputs": [],
   "source": [
    "import numpy as np\n",
    "import pandas as pd\n",
    "import matplotlib.pyplot as plt"
   ]
  },
  {
   "cell_type": "code",
   "execution_count": 141,
   "id": "63da8274",
   "metadata": {},
   "outputs": [],
   "source": [
    "data=pd.read_excel(\"/Users/abdouniang/Downloads/data.xlsx\")"
   ]
  },
  {
   "cell_type": "code",
   "execution_count": 142,
   "id": "893003e5",
   "metadata": {},
   "outputs": [
    {
     "data": {
      "text/plain": [
       "(9568, 5)"
      ]
     },
     "execution_count": 142,
     "metadata": {},
     "output_type": "execute_result"
    }
   ],
   "source": [
    "data.shape"
   ]
  },
  {
   "cell_type": "code",
   "execution_count": 143,
   "id": "f3fff89d",
   "metadata": {},
   "outputs": [
    {
     "data": {
      "text/html": [
       "<div>\n",
       "<style scoped>\n",
       "    .dataframe tbody tr th:only-of-type {\n",
       "        vertical-align: middle;\n",
       "    }\n",
       "\n",
       "    .dataframe tbody tr th {\n",
       "        vertical-align: top;\n",
       "    }\n",
       "\n",
       "    .dataframe thead th {\n",
       "        text-align: right;\n",
       "    }\n",
       "</style>\n",
       "<table border=\"1\" class=\"dataframe\">\n",
       "  <thead>\n",
       "    <tr style=\"text-align: right;\">\n",
       "      <th></th>\n",
       "      <th>X1</th>\n",
       "      <th>X2</th>\n",
       "      <th>X3</th>\n",
       "      <th>X4</th>\n",
       "    </tr>\n",
       "  </thead>\n",
       "  <tbody>\n",
       "    <tr>\n",
       "      <th>0</th>\n",
       "      <td>14.96</td>\n",
       "      <td>41.76</td>\n",
       "      <td>1024.07</td>\n",
       "      <td>73.17</td>\n",
       "    </tr>\n",
       "    <tr>\n",
       "      <th>1</th>\n",
       "      <td>25.18</td>\n",
       "      <td>62.96</td>\n",
       "      <td>1020.04</td>\n",
       "      <td>59.08</td>\n",
       "    </tr>\n",
       "    <tr>\n",
       "      <th>2</th>\n",
       "      <td>5.11</td>\n",
       "      <td>39.40</td>\n",
       "      <td>1012.16</td>\n",
       "      <td>92.14</td>\n",
       "    </tr>\n",
       "    <tr>\n",
       "      <th>3</th>\n",
       "      <td>20.86</td>\n",
       "      <td>57.32</td>\n",
       "      <td>1010.24</td>\n",
       "      <td>76.64</td>\n",
       "    </tr>\n",
       "    <tr>\n",
       "      <th>4</th>\n",
       "      <td>10.82</td>\n",
       "      <td>37.50</td>\n",
       "      <td>1009.23</td>\n",
       "      <td>96.62</td>\n",
       "    </tr>\n",
       "    <tr>\n",
       "      <th>...</th>\n",
       "      <td>...</td>\n",
       "      <td>...</td>\n",
       "      <td>...</td>\n",
       "      <td>...</td>\n",
       "    </tr>\n",
       "    <tr>\n",
       "      <th>9563</th>\n",
       "      <td>16.65</td>\n",
       "      <td>49.69</td>\n",
       "      <td>1014.01</td>\n",
       "      <td>91.00</td>\n",
       "    </tr>\n",
       "    <tr>\n",
       "      <th>9564</th>\n",
       "      <td>13.19</td>\n",
       "      <td>39.18</td>\n",
       "      <td>1023.67</td>\n",
       "      <td>66.78</td>\n",
       "    </tr>\n",
       "    <tr>\n",
       "      <th>9565</th>\n",
       "      <td>31.32</td>\n",
       "      <td>74.33</td>\n",
       "      <td>1012.92</td>\n",
       "      <td>36.48</td>\n",
       "    </tr>\n",
       "    <tr>\n",
       "      <th>9566</th>\n",
       "      <td>24.48</td>\n",
       "      <td>69.45</td>\n",
       "      <td>1013.86</td>\n",
       "      <td>62.39</td>\n",
       "    </tr>\n",
       "    <tr>\n",
       "      <th>9567</th>\n",
       "      <td>21.60</td>\n",
       "      <td>62.52</td>\n",
       "      <td>1017.23</td>\n",
       "      <td>67.87</td>\n",
       "    </tr>\n",
       "  </tbody>\n",
       "</table>\n",
       "<p>9568 rows × 4 columns</p>\n",
       "</div>"
      ],
      "text/plain": [
       "         X1     X2       X3     X4\n",
       "0     14.96  41.76  1024.07  73.17\n",
       "1     25.18  62.96  1020.04  59.08\n",
       "2      5.11  39.40  1012.16  92.14\n",
       "3     20.86  57.32  1010.24  76.64\n",
       "4     10.82  37.50  1009.23  96.62\n",
       "...     ...    ...      ...    ...\n",
       "9563  16.65  49.69  1014.01  91.00\n",
       "9564  13.19  39.18  1023.67  66.78\n",
       "9565  31.32  74.33  1012.92  36.48\n",
       "9566  24.48  69.45  1013.86  62.39\n",
       "9567  21.60  62.52  1017.23  67.87\n",
       "\n",
       "[9568 rows x 4 columns]"
      ]
     },
     "execution_count": 143,
     "metadata": {},
     "output_type": "execute_result"
    }
   ],
   "source": [
    "#Take all features in my dataset\n",
    "X=data.iloc[:,:-1]\n",
    "X"
   ]
  },
  {
   "cell_type": "code",
   "execution_count": 144,
   "id": "c9d68858",
   "metadata": {},
   "outputs": [
    {
     "data": {
      "text/plain": [
       "0       463.26\n",
       "1       444.37\n",
       "2       488.56\n",
       "3       446.48\n",
       "4       473.90\n",
       "         ...  \n",
       "9563    460.03\n",
       "9564    469.62\n",
       "9565    429.57\n",
       "9566    435.74\n",
       "9567    453.28\n",
       "Name: Y, Length: 9568, dtype: float64"
      ]
     },
     "execution_count": 144,
     "metadata": {},
     "output_type": "execute_result"
    }
   ],
   "source": [
    "#Take the target in mt dataset\n",
    "y=data.iloc[:,-1]\n",
    "y"
   ]
  },
  {
   "cell_type": "code",
   "execution_count": 145,
   "id": "d8454666",
   "metadata": {},
   "outputs": [
    {
     "data": {
      "text/html": [
       "<div>\n",
       "<style scoped>\n",
       "    .dataframe tbody tr th:only-of-type {\n",
       "        vertical-align: middle;\n",
       "    }\n",
       "\n",
       "    .dataframe tbody tr th {\n",
       "        vertical-align: top;\n",
       "    }\n",
       "\n",
       "    .dataframe thead th {\n",
       "        text-align: right;\n",
       "    }\n",
       "</style>\n",
       "<table border=\"1\" class=\"dataframe\">\n",
       "  <thead>\n",
       "    <tr style=\"text-align: right;\">\n",
       "      <th></th>\n",
       "      <th>X1</th>\n",
       "      <th>X2</th>\n",
       "      <th>X3</th>\n",
       "      <th>X4</th>\n",
       "      <th>Y</th>\n",
       "    </tr>\n",
       "  </thead>\n",
       "  <tbody>\n",
       "    <tr>\n",
       "      <th>0</th>\n",
       "      <td>14.96</td>\n",
       "      <td>41.76</td>\n",
       "      <td>1024.07</td>\n",
       "      <td>73.17</td>\n",
       "      <td>463.26</td>\n",
       "    </tr>\n",
       "    <tr>\n",
       "      <th>1</th>\n",
       "      <td>25.18</td>\n",
       "      <td>62.96</td>\n",
       "      <td>1020.04</td>\n",
       "      <td>59.08</td>\n",
       "      <td>444.37</td>\n",
       "    </tr>\n",
       "    <tr>\n",
       "      <th>2</th>\n",
       "      <td>5.11</td>\n",
       "      <td>39.40</td>\n",
       "      <td>1012.16</td>\n",
       "      <td>92.14</td>\n",
       "      <td>488.56</td>\n",
       "    </tr>\n",
       "    <tr>\n",
       "      <th>3</th>\n",
       "      <td>20.86</td>\n",
       "      <td>57.32</td>\n",
       "      <td>1010.24</td>\n",
       "      <td>76.64</td>\n",
       "      <td>446.48</td>\n",
       "    </tr>\n",
       "    <tr>\n",
       "      <th>4</th>\n",
       "      <td>10.82</td>\n",
       "      <td>37.50</td>\n",
       "      <td>1009.23</td>\n",
       "      <td>96.62</td>\n",
       "      <td>473.90</td>\n",
       "    </tr>\n",
       "  </tbody>\n",
       "</table>\n",
       "</div>"
      ],
      "text/plain": [
       "      X1     X2       X3     X4       Y\n",
       "0  14.96  41.76  1024.07  73.17  463.26\n",
       "1  25.18  62.96  1020.04  59.08  444.37\n",
       "2   5.11  39.40  1012.16  92.14  488.56\n",
       "3  20.86  57.32  1010.24  76.64  446.48\n",
       "4  10.82  37.50  1009.23  96.62  473.90"
      ]
     },
     "execution_count": 145,
     "metadata": {},
     "output_type": "execute_result"
    }
   ],
   "source": [
    "#Dimension of my data set\n",
    "data.head()"
   ]
  },
  {
   "cell_type": "code",
   "execution_count": 146,
   "id": "c1c759cf",
   "metadata": {},
   "outputs": [],
   "source": [
    "#Compute the mean and the std for all column of my dataset\n",
    "def features_Standart(data):\n",
    "    mean=np.mean(X,axis=0)\n",
    "    std=np.std(X,axis=0)\n",
    "    mse=(data-mean)/std\n",
    "#     print(\"mean\",mean)\n",
    "#     print(\"std\",std)\n",
    "    return mse"
   ]
  },
  {
   "cell_type": "code",
   "execution_count": 148,
   "id": "c94b2d5b",
   "metadata": {},
   "outputs": [
    {
     "data": {
      "text/html": [
       "<div>\n",
       "<style scoped>\n",
       "    .dataframe tbody tr th:only-of-type {\n",
       "        vertical-align: middle;\n",
       "    }\n",
       "\n",
       "    .dataframe tbody tr th {\n",
       "        vertical-align: top;\n",
       "    }\n",
       "\n",
       "    .dataframe thead th {\n",
       "        text-align: right;\n",
       "    }\n",
       "</style>\n",
       "<table border=\"1\" class=\"dataframe\">\n",
       "  <thead>\n",
       "    <tr style=\"text-align: right;\">\n",
       "      <th></th>\n",
       "      <th>X1</th>\n",
       "      <th>X2</th>\n",
       "      <th>X3</th>\n",
       "      <th>X4</th>\n",
       "      <th>Y</th>\n",
       "    </tr>\n",
       "  </thead>\n",
       "  <tbody>\n",
       "    <tr>\n",
       "      <th>0</th>\n",
       "      <td>-0.629519</td>\n",
       "      <td>-0.987297</td>\n",
       "      <td>1.820488</td>\n",
       "      <td>-0.009519</td>\n",
       "      <td>463.26</td>\n",
       "    </tr>\n",
       "    <tr>\n",
       "      <th>1</th>\n",
       "      <td>0.741909</td>\n",
       "      <td>0.681045</td>\n",
       "      <td>1.141863</td>\n",
       "      <td>-0.974621</td>\n",
       "      <td>444.37</td>\n",
       "    </tr>\n",
       "    <tr>\n",
       "      <th>2</th>\n",
       "      <td>-1.951297</td>\n",
       "      <td>-1.173018</td>\n",
       "      <td>-0.185078</td>\n",
       "      <td>1.289840</td>\n",
       "      <td>488.56</td>\n",
       "    </tr>\n",
       "    <tr>\n",
       "      <th>3</th>\n",
       "      <td>0.162205</td>\n",
       "      <td>0.237203</td>\n",
       "      <td>-0.508393</td>\n",
       "      <td>0.228160</td>\n",
       "      <td>446.48</td>\n",
       "    </tr>\n",
       "    <tr>\n",
       "      <th>4</th>\n",
       "      <td>-1.185069</td>\n",
       "      <td>-1.322539</td>\n",
       "      <td>-0.678470</td>\n",
       "      <td>1.596699</td>\n",
       "      <td>473.90</td>\n",
       "    </tr>\n",
       "  </tbody>\n",
       "</table>\n",
       "</div>"
      ],
      "text/plain": [
       "         X1        X2        X3        X4       Y\n",
       "0 -0.629519 -0.987297  1.820488 -0.009519  463.26\n",
       "1  0.741909  0.681045  1.141863 -0.974621  444.37\n",
       "2 -1.951297 -1.173018 -0.185078  1.289840  488.56\n",
       "3  0.162205  0.237203 -0.508393  0.228160  446.48\n",
       "4 -1.185069 -1.322539 -0.678470  1.596699  473.90"
      ]
     },
     "execution_count": 148,
     "metadata": {},
     "output_type": "execute_result"
    }
   ],
   "source": [
    "#Apply the function to my dataset for all my feature \n",
    "data.iloc[:,:-1] = features_Standart(data.iloc[:,:-1])\n",
    "data.head()"
   ]
  },
  {
   "cell_type": "code",
   "execution_count": 149,
   "id": "3a70ceb5",
   "metadata": {},
   "outputs": [
    {
     "data": {
      "text/html": [
       "<div>\n",
       "<style scoped>\n",
       "    .dataframe tbody tr th:only-of-type {\n",
       "        vertical-align: middle;\n",
       "    }\n",
       "\n",
       "    .dataframe tbody tr th {\n",
       "        vertical-align: top;\n",
       "    }\n",
       "\n",
       "    .dataframe thead th {\n",
       "        text-align: right;\n",
       "    }\n",
       "</style>\n",
       "<table border=\"1\" class=\"dataframe\">\n",
       "  <thead>\n",
       "    <tr style=\"text-align: right;\">\n",
       "      <th></th>\n",
       "      <th>X1</th>\n",
       "      <th>X2</th>\n",
       "      <th>X3</th>\n",
       "      <th>X4</th>\n",
       "      <th>Y</th>\n",
       "    </tr>\n",
       "  </thead>\n",
       "  <tbody>\n",
       "    <tr>\n",
       "      <th>count</th>\n",
       "      <td>9.568000e+03</td>\n",
       "      <td>9.568000e+03</td>\n",
       "      <td>9.568000e+03</td>\n",
       "      <td>9.568000e+03</td>\n",
       "      <td>9568.000000</td>\n",
       "    </tr>\n",
       "    <tr>\n",
       "      <th>mean</th>\n",
       "      <td>2.757572e-17</td>\n",
       "      <td>-1.742846e-17</td>\n",
       "      <td>-3.563435e-17</td>\n",
       "      <td>-4.355954e-17</td>\n",
       "      <td>454.365009</td>\n",
       "    </tr>\n",
       "    <tr>\n",
       "      <th>std</th>\n",
       "      <td>1.000052e+00</td>\n",
       "      <td>1.000052e+00</td>\n",
       "      <td>1.000052e+00</td>\n",
       "      <td>1.000052e+00</td>\n",
       "      <td>17.066995</td>\n",
       "    </tr>\n",
       "    <tr>\n",
       "      <th>min</th>\n",
       "      <td>-2.394126e+00</td>\n",
       "      <td>-2.277901e+00</td>\n",
       "      <td>-3.430019e+00</td>\n",
       "      <td>-3.270589e+00</td>\n",
       "      <td>420.260000</td>\n",
       "    </tr>\n",
       "    <tr>\n",
       "      <th>25%</th>\n",
       "      <td>-8.240958e-01</td>\n",
       "      <td>-9.888705e-01</td>\n",
       "      <td>-7.003615e-01</td>\n",
       "      <td>-6.836860e-01</td>\n",
       "      <td>439.750000</td>\n",
       "    </tr>\n",
       "    <tr>\n",
       "      <th>50%</th>\n",
       "      <td>9.309729e-02</td>\n",
       "      <td>-1.751604e-01</td>\n",
       "      <td>-5.373067e-02</td>\n",
       "      <td>1.141150e-01</td>\n",
       "      <td>451.550000</td>\n",
       "    </tr>\n",
       "    <tr>\n",
       "      <th>75%</th>\n",
       "      <td>8.143721e-01</td>\n",
       "      <td>9.627745e-01</td>\n",
       "      <td>6.737290e-01</td>\n",
       "      <td>7.891378e-01</td>\n",
       "      <td>468.430000</td>\n",
       "    </tr>\n",
       "    <tr>\n",
       "      <th>max</th>\n",
       "      <td>2.342804e+00</td>\n",
       "      <td>2.144779e+00</td>\n",
       "      <td>3.374760e+00</td>\n",
       "      <td>1.839173e+00</td>\n",
       "      <td>495.760000</td>\n",
       "    </tr>\n",
       "  </tbody>\n",
       "</table>\n",
       "</div>"
      ],
      "text/plain": [
       "                 X1            X2            X3            X4            Y\n",
       "count  9.568000e+03  9.568000e+03  9.568000e+03  9.568000e+03  9568.000000\n",
       "mean   2.757572e-17 -1.742846e-17 -3.563435e-17 -4.355954e-17   454.365009\n",
       "std    1.000052e+00  1.000052e+00  1.000052e+00  1.000052e+00    17.066995\n",
       "min   -2.394126e+00 -2.277901e+00 -3.430019e+00 -3.270589e+00   420.260000\n",
       "25%   -8.240958e-01 -9.888705e-01 -7.003615e-01 -6.836860e-01   439.750000\n",
       "50%    9.309729e-02 -1.751604e-01 -5.373067e-02  1.141150e-01   451.550000\n",
       "75%    8.143721e-01  9.627745e-01  6.737290e-01  7.891378e-01   468.430000\n",
       "max    2.342804e+00  2.144779e+00  3.374760e+00  1.839173e+00   495.760000"
      ]
     },
     "execution_count": 149,
     "metadata": {},
     "output_type": "execute_result"
    }
   ],
   "source": [
    "data.describe()"
   ]
  },
  {
   "cell_type": "code",
   "execution_count": 150,
   "id": "eac8df41",
   "metadata": {},
   "outputs": [
    {
     "data": {
      "text/html": [
       "<div>\n",
       "<style scoped>\n",
       "    .dataframe tbody tr th:only-of-type {\n",
       "        vertical-align: middle;\n",
       "    }\n",
       "\n",
       "    .dataframe tbody tr th {\n",
       "        vertical-align: top;\n",
       "    }\n",
       "\n",
       "    .dataframe thead th {\n",
       "        text-align: right;\n",
       "    }\n",
       "</style>\n",
       "<table border=\"1\" class=\"dataframe\">\n",
       "  <thead>\n",
       "    <tr style=\"text-align: right;\">\n",
       "      <th></th>\n",
       "      <th>X1</th>\n",
       "      <th>X2</th>\n",
       "      <th>X3</th>\n",
       "      <th>X4</th>\n",
       "      <th>Y</th>\n",
       "    </tr>\n",
       "  </thead>\n",
       "  <tbody>\n",
       "    <tr>\n",
       "      <th>2</th>\n",
       "      <td>-1.951297</td>\n",
       "      <td>-1.173018</td>\n",
       "      <td>-0.185078</td>\n",
       "      <td>1.289840</td>\n",
       "      <td>488.56</td>\n",
       "    </tr>\n",
       "    <tr>\n",
       "      <th>3</th>\n",
       "      <td>0.162205</td>\n",
       "      <td>0.237203</td>\n",
       "      <td>-0.508393</td>\n",
       "      <td>0.228160</td>\n",
       "      <td>446.48</td>\n",
       "    </tr>\n",
       "    <tr>\n",
       "      <th>4</th>\n",
       "      <td>-1.185069</td>\n",
       "      <td>-1.322539</td>\n",
       "      <td>-0.678470</td>\n",
       "      <td>1.596699</td>\n",
       "      <td>473.90</td>\n",
       "    </tr>\n",
       "    <tr>\n",
       "      <th>5</th>\n",
       "      <td>0.888177</td>\n",
       "      <td>0.404037</td>\n",
       "      <td>-0.173290</td>\n",
       "      <td>-0.995854</td>\n",
       "      <td>443.67</td>\n",
       "    </tr>\n",
       "    <tr>\n",
       "      <th>6</th>\n",
       "      <td>-0.504722</td>\n",
       "      <td>-0.814167</td>\n",
       "      <td>0.128134</td>\n",
       "      <td>0.132266</td>\n",
       "      <td>467.35</td>\n",
       "    </tr>\n",
       "  </tbody>\n",
       "</table>\n",
       "</div>"
      ],
      "text/plain": [
       "         X1        X2        X3        X4       Y\n",
       "2 -1.951297 -1.173018 -0.185078  1.289840  488.56\n",
       "3  0.162205  0.237203 -0.508393  0.228160  446.48\n",
       "4 -1.185069 -1.322539 -0.678470  1.596699  473.90\n",
       "5  0.888177  0.404037 -0.173290 -0.995854  443.67\n",
       "6 -0.504722 -0.814167  0.128134  0.132266  467.35"
      ]
     },
     "execution_count": 150,
     "metadata": {},
     "output_type": "execute_result"
    }
   ],
   "source": [
    "#Split the data for train and test \n",
    "df=data.iloc[[2,3,4,5,6]]\n",
    "df.head()"
   ]
  },
  {
   "cell_type": "code",
   "execution_count": 151,
   "id": "64764047",
   "metadata": {},
   "outputs": [],
   "source": [
    "def split_data(df, train_percent):\n",
    "  ########## fill the code ########\n",
    "  np.random.seed(1)\n",
    "  perm=np.random.permutation(df.index)\n",
    "\n",
    "  n=len(df)\n",
    "\n",
    "  train_index = int(train_percent * n)\n",
    "\n",
    "  train = df.iloc[perm[:train_index]]\n",
    "  test = df.iloc[perm[train_index:]]\n",
    "\n",
    "\n",
    "  X_train = train.iloc[:,:-1]\n",
    "  Y_train = train.iloc[:,-1]\n",
    "\n",
    "  X_test= test.iloc[: , :-1]\n",
    "  Y_test = test.iloc[:,-1]\n",
    "  return X_train, X_test, Y_train, Y_test"
   ]
  },
  {
   "cell_type": "code",
   "execution_count": 152,
   "id": "fd59d14a",
   "metadata": {},
   "outputs": [],
   "source": [
    "X_train, X_test, Y_train, Y_test =split_data(data, 0.8)"
   ]
  },
  {
   "cell_type": "code",
   "execution_count": 153,
   "id": "4cbb244c",
   "metadata": {},
   "outputs": [
    {
     "data": {
      "text/plain": [
       "((7654, 4), (1914, 4))"
      ]
     },
     "execution_count": 153,
     "metadata": {},
     "output_type": "execute_result"
    }
   ],
   "source": [
    "X_train.shape, X_test.shape"
   ]
  },
  {
   "cell_type": "code",
   "execution_count": 154,
   "id": "11a8f6f3",
   "metadata": {},
   "outputs": [
    {
     "data": {
      "text/plain": [
       "((7654,), (1914,))"
      ]
     },
     "execution_count": 154,
     "metadata": {},
     "output_type": "execute_result"
    }
   ],
   "source": [
    "Y_train.shape, Y_test.shape,"
   ]
  },
  {
   "cell_type": "code",
   "execution_count": 160,
   "id": "7c29b0aa",
   "metadata": {},
   "outputs": [],
   "source": [
    "#Define a function to add One one my features\n",
    "\n",
    "def Add_ones(X):\n",
    "    X_new=np.hstack([np.ones((X.shape[0],1)),X])\n",
    "    return X_new\n",
    "\n",
    "#Define a Funcrtion which allow to compute the cost\n",
    "def Compute_cost(X,y,theta):\n",
    "    loss=(1/2) *np.sum((X@theta - y)**2)\n",
    "    return loss\n",
    "#Define the functionTrain\n",
    "\n",
    "def Train(X,y,lr,epoch):\n",
    "    X=Add_ones(X.values)\n",
    "    m=len(y)\n",
    "    theta=np.zeros(X.shape[1])\n",
    "    cost_history=np.zeros(epoch)\n",
    "#     print(\"######\",X)\n",
    "    for j in range(epoch):\n",
    "        cost_history[j]=Compute_cost(X,y,theta)\n",
    "        theta_new= theta - 1/m * lr * X.T@(X@theta - y) \n",
    "#         print(\"theta new\")\n",
    "        theta=theta_new\n",
    "    return theta,cost_history\n",
    "    \n",
    "#define The function of prediction \n",
    "\n",
    "def Predict(X,theta):\n",
    "    X=Add_ones(X.values)\n",
    "    return X@theta\n",
    "\n",
    "#Define the MSE(mean Square error)\n",
    "def Mse(y,yPred):\n",
    "    Loss=1/len(y) * np.sum((y.values - yPred)**2)\n",
    "    return Loss"
   ]
  },
  {
   "cell_type": "code",
   "execution_count": 161,
   "id": "977d71db",
   "metadata": {},
   "outputs": [],
   "source": [
    "epoch = 30\n",
    "theta, loss_history = Train(X_train, Y_train, 0.3, epoch)"
   ]
  },
  {
   "cell_type": "code",
   "execution_count": 162,
   "id": "c690d63d",
   "metadata": {},
   "outputs": [
    {
     "data": {
      "text/plain": [
       "array([454.33774184, -11.44757209,  -5.43840813,   0.97795748,\n",
       "        -1.17688825])"
      ]
     },
     "execution_count": 162,
     "metadata": {},
     "output_type": "execute_result"
    }
   ],
   "source": [
    "theta"
   ]
  },
  {
   "cell_type": "code",
   "execution_count": 163,
   "id": "2879dabe",
   "metadata": {},
   "outputs": [
    {
     "data": {
      "text/plain": [
       "array([7.91472742e+08, 3.87264176e+08, 1.89772537e+08, 9.30426655e+07,\n",
       "       4.56475050e+07, 2.24233177e+07, 1.10426031e+07, 5.46516383e+06,\n",
       "       2.73135663e+06, 1.39097216e+06, 7.33411918e+05, 4.10482178e+05,\n",
       "       2.51565909e+05, 1.73058164e+05, 1.33989886e+05, 1.14283729e+05,\n",
       "       1.04099458e+05, 9.86131859e+04, 9.54591972e+04, 9.34764160e+04,\n",
       "       9.20941672e+04, 9.10311861e+04, 9.01481230e+04, 8.93752630e+04,\n",
       "       8.86771016e+04, 8.80349801e+04, 8.74385718e+04, 8.68817054e+04,\n",
       "       8.63603136e+04, 8.58714235e+04])"
      ]
     },
     "execution_count": 163,
     "metadata": {},
     "output_type": "execute_result"
    }
   ],
   "source": [
    "loss_history"
   ]
  },
  {
   "cell_type": "code",
   "execution_count": 164,
   "id": "3b9426d5",
   "metadata": {},
   "outputs": [
    {
     "data": {
      "text/plain": [
       "24.10206904944692"
      ]
     },
     "execution_count": 164,
     "metadata": {},
     "output_type": "execute_result"
    }
   ],
   "source": [
    "ypred = Predict(X_test, theta)\n",
    "mse = Mse(Y_test, ypred)\n",
    "mse"
   ]
  },
  {
   "cell_type": "code",
   "execution_count": 165,
   "id": "dc891bd7",
   "metadata": {},
   "outputs": [
    {
     "data": {
      "text/plain": [
       "Text(0, 0.5, 'Cost, $J(\\\\theta)$')"
      ]
     },
     "execution_count": 165,
     "metadata": {},
     "output_type": "execute_result"
    },
    {
     "data": {
      "image/png": "[encoded data removed]",
      "text/plain": [
       "<Figure size 432x288 with 1 Axes>"
      ]
     },
     "metadata": {
      "needs_background": "light"
     },
     "output_type": "display_data"
    }
   ],
   "source": [
    "plt.figure()\n",
    "plt.plot(np.arange(epoch), loss_history, c='blue')\n",
    "plt.xlabel('Iterations')\n",
    "plt.ylabel('Cost, ' + r'$J(\\theta)$')"
   ]
  },
  {
   "cell_type": "code",
   "execution_count": null,
   "id": "737119c0",
   "metadata": {},
   "outputs": [],
   "source": []
  }
 ],
 "metadata": {
  "kernelspec": {
   "display_name": "Python 3 (ipykernel)",
   "language": "python",
   "name": "python3"
  },
  "language_info": {
   "codemirror_mode": {
    "name": "ipython",
    "version": 3
   },
   "file_extension": ".py",
   "mimetype": "text/x-python",
   "name": "python",
   "nbconvert_exporter": "python",
   "pygments_lexer": "ipython3",
   "version": "3.9.7"
  }
 },
 "nbformat": 4,
 "nbformat_minor": 5
}
